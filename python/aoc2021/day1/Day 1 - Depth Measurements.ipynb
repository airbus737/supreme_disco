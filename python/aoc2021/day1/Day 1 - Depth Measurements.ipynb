{
 "cells": [
  {
   "cell_type": "raw",
   "id": "5eb4794b",
   "metadata": {},
   "source": [
    "199 (N/A - no previous measurement)\n",
    "200 (increased)\n",
    "208 (increased)\n",
    "210 (increased)\n",
    "200 (decreased)\n",
    "207 (increased)\n",
    "240 (increased)\n",
    "269 (increased)\n",
    "260 (decreased)\n",
    "263 (increased)"
   ]
  },
  {
   "cell_type": "markdown",
   "id": "4adc9c1e",
   "metadata": {},
   "source": [
    "### How many measurements are larger than the previous measurement?"
   ]
  },
  {
   "cell_type": "code",
   "execution_count": 3,
   "id": "57a158c5",
   "metadata": {},
   "outputs": [
    {
     "name": "stdout",
     "output_type": "stream",
     "text": [
      "Initial Depth Measurements: [199, 200, 208, 210, 200, 207, 240, 269, 260, 263]\n",
      "The difference in depths:  [1, 8, 2, -10, 7, 33, 29, -9, 3]\n"
     ]
    }
   ],
   "source": [
    "depth_measurements = [199, 200, 208, 210, 200, 207, 240, 269, 260, 263]\n",
    "\n",
    "print(\"Initial Depth Measurements:\", str(depth_measurements))\n",
    "  \n",
    "diff_list = []\n",
    "for x, y in zip(depth_measurements[0::], depth_measurements[1::]):\n",
    "    diff_list.append(y-x)\n",
    "      \n",
    "print (\"The difference in depths: \", str(diff_list))"
   ]
  }
 ],
 "metadata": {
  "kernelspec": {
   "display_name": "Python 3 (ipykernel)",
   "language": "python",
   "name": "python3"
  },
  "language_info": {
   "codemirror_mode": {
    "name": "ipython",
    "version": 3
   },
   "file_extension": ".py",
   "mimetype": "text/x-python",
   "name": "python",
   "nbconvert_exporter": "python",
   "pygments_lexer": "ipython3",
   "version": "3.9.7"
  }
 },
 "nbformat": 4,
 "nbformat_minor": 5
}
